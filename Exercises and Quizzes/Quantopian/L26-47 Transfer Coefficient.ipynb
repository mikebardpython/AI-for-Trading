{
 "cells": [
  {
   "cell_type": "markdown",
   "metadata": {},
   "source": [
    "### Transfer Coefficient"
   ]
  },
  {
   "cell_type": "code",
   "execution_count": 6,
   "metadata": {},
   "outputs": [],
   "source": [
    "import matplotlib.pyplot as plt\n",
    "import numpy as np\n",
    "from scipy.stats.stats import pearsonr\n",
    "from scipy.stats.stats import spearmanr"
   ]
  },
  {
   "cell_type": "code",
   "execution_count": 7,
   "metadata": {},
   "outputs": [],
   "source": [
    "num_stocks = 500\n",
    "np.random.seed(201808)"
   ]
  },
  {
   "cell_type": "code",
   "execution_count": 8,
   "metadata": {},
   "outputs": [],
   "source": [
    "def standardize_alpha(alpha_vector):\n",
    "    return(alpha_vector - np.mean(alpha_vector)/np.sum(np.abs(alpha_vector)))"
   ]
  },
  {
   "cell_type": "markdown",
   "metadata": {},
   "source": [
    "### Simulate an alpha vector for a single time period"
   ]
  },
  {
   "cell_type": "code",
   "execution_count": 9,
   "metadata": {},
   "outputs": [],
   "source": [
    "# make up data for an alpha vector for a single time period\n",
    "def simulate_alpha_vector():\n",
    "    alpha_vector = np.random.normal(size = num_stocks)\n",
    "    return alpha_vector"
   ]
  },
  {
   "cell_type": "code",
   "execution_count": 11,
   "metadata": {},
   "outputs": [
    {
     "data": {
      "text/plain": [
       "array([  4.77579685e-01,  -2.20987620e+00,   2.09819664e-01,\n",
       "         2.49245178e-01,   1.28910507e+00,   1.04151143e+00,\n",
       "        -9.60882058e-01,   8.25590693e-01,  -1.14541736e+00,\n",
       "        -1.29457112e+00,   3.96721718e-01,   1.72032218e+00,\n",
       "        -5.06568476e-01,  -5.54499842e-01,  -4.43878999e-01,\n",
       "        -7.57801068e-01,   7.49182500e-01,   3.72651489e-01,\n",
       "         1.70385025e+00,   6.78144670e-01,   2.10485468e-01,\n",
       "         5.57700400e-01,  -7.23299159e-01,  -1.60626569e+00,\n",
       "        -1.10100315e+00,  -1.89713615e-01,   1.39326834e+00,\n",
       "         3.12292949e-01,   2.67218218e-03,  -1.45081245e+00,\n",
       "         5.28495062e-01,   7.88419351e-01,  -4.32462714e-01,\n",
       "        -1.08946826e+00,   1.56642540e+00,  -3.36722519e-01,\n",
       "         5.92092947e-01,  -5.83351082e-01,  -1.20890747e+00,\n",
       "         1.38785308e-02,   3.64993908e-01,   8.77890609e-01,\n",
       "        -6.84198521e-01,   6.80435998e-02,  -3.40496182e-01,\n",
       "        -8.84901827e-01,   1.02403866e+00,  -2.23530114e-01,\n",
       "        -3.18186599e-01,   5.52314744e-01,  -1.12217104e+00,\n",
       "         8.46536931e-01,  -9.86766494e-01,   6.18797593e-01,\n",
       "         4.52766683e-02,  -1.99570106e+00,  -1.24669855e+00,\n",
       "        -8.21025058e-01,  -2.29383641e-01,  -5.24538000e-01,\n",
       "        -4.51874054e-01,   5.92086959e-01,  -5.35921578e-02,\n",
       "        -6.34815795e-01,  -9.06899202e-02,   4.09688651e-01,\n",
       "        -7.81368836e-02,  -3.31139116e-02,  -8.48695979e-01,\n",
       "         7.35270457e-01,  -5.08752149e-01,  -1.36353786e+00,\n",
       "        -5.47335475e-01,  -1.47946768e-02,  -2.76286613e-01,\n",
       "         9.07275489e-01,  -6.60017586e-01,  -6.37602948e-02,\n",
       "        -1.18760612e+00,  -1.87000106e+00,   8.63196060e-01,\n",
       "        -2.77771475e-01,   1.41688957e+00,   1.03992411e+00,\n",
       "        -3.81536731e-01,  -6.66145275e-01,  -6.78021036e-01,\n",
       "         5.85275005e-01,  -7.95255096e-02,  -7.56550276e-01,\n",
       "        -6.47749617e-01,  -1.06377700e+00,  -5.93341240e-01,\n",
       "        -1.36535425e-01,   1.25357201e+00,  -1.48181773e-02,\n",
       "         1.10551420e+00,  -1.21550240e+00,   5.55772370e-01,\n",
       "         2.73275690e-01,   1.65718175e+00,   9.07289427e-01,\n",
       "         1.10846917e+00,  -8.40880858e-01,  -1.90259478e+00,\n",
       "         1.84502220e+00,   1.49366259e+00,  -1.63682629e+00,\n",
       "         1.52298728e-01,   1.87737833e+00,   1.59157177e+00,\n",
       "        -2.19887120e-02,   5.33450373e-01,  -7.77037853e-01,\n",
       "        -3.93673835e-02,  -1.82226403e-01,   4.86676674e-01,\n",
       "         3.31999018e-01,   1.93670934e+00,  -1.02134066e+00,\n",
       "         5.17336512e-01,   2.14490169e-01,   2.74964020e-01,\n",
       "         1.11599827e+00,   1.49936772e+00,   5.45349157e-01,\n",
       "         1.57893757e+00,  -6.86496728e-01,  -6.48076987e-01,\n",
       "        -2.05500293e-01,   4.44169555e-01,   2.84567870e-01,\n",
       "         3.68751553e-01,  -4.59902497e-01,  -1.16675506e+00,\n",
       "         1.40540259e+00,  -4.01156549e-01,  -1.27377318e+00,\n",
       "         2.37035529e-01,   6.62401008e-01,  -4.16691929e-01,\n",
       "         3.27531304e-01,  -4.97299778e-01,  -1.03815972e+00,\n",
       "         1.91884566e+00,  -8.79118762e-01,   2.92202484e-01,\n",
       "         2.26561455e-01,   4.27873236e-01,   1.77433272e+00,\n",
       "         4.07011698e-01,  -5.44913013e-01,   3.35617361e-02,\n",
       "         3.95706512e-01,  -6.73860018e-01,   1.48999541e+00,\n",
       "        -1.58419463e+00,   1.59175988e+00,  -8.33620958e-01,\n",
       "         1.17452339e+00,   1.10444523e+00,  -5.02905341e-01,\n",
       "         1.14459121e-01,  -7.94695949e-01,   1.70356233e-01,\n",
       "        -5.28040444e-01,   1.58456015e-01,  -4.49266622e-01,\n",
       "        -5.13237707e-01,   5.64588593e-01,   1.92823235e+00,\n",
       "         8.33068761e-01,   1.38153595e+00,  -2.72698517e-01,\n",
       "         2.74221830e-01,  -7.65174642e-01,   7.96433280e-01,\n",
       "        -1.96897835e-01,   4.17644376e-01,   8.34897592e-01,\n",
       "        -9.98543098e-01,   2.38685897e+00,   1.81823555e-01,\n",
       "        -3.50578826e-01,   3.83031404e-01,   3.93590815e-01,\n",
       "        -1.01011865e+00,   1.41765244e+00,   3.23827932e-01,\n",
       "        -2.32596692e-01,   6.21285776e-01,   5.43317992e-01,\n",
       "         6.94999780e-01,  -1.38868446e-01,   4.68366723e-01,\n",
       "        -1.67019151e-01,  -1.15845116e+00,  -2.90152533e-01,\n",
       "         3.24553970e-01,  -2.16438686e-01,  -8.56789603e-01,\n",
       "        -1.05832880e+00,  -1.25866277e+00,  -1.60527510e-01,\n",
       "        -6.06873090e-01,   3.75011463e-01,   3.63399208e-01,\n",
       "        -4.16459299e-01,  -1.66715525e-01,   9.99269621e-01,\n",
       "        -1.51156239e-01,  -1.27328587e-01,   1.08464390e+00,\n",
       "         1.42402542e+00,   5.04915631e-01,   1.07588938e+00,\n",
       "         5.84373393e-01,   7.74265114e-01,   1.12486404e+00,\n",
       "        -3.26751879e-01,  -8.62370976e-03,   1.85430333e+00,\n",
       "         1.57502882e-01,   8.29779891e-01,  -5.54134580e-02,\n",
       "        -6.88993604e-01,  -4.61660391e-01,   9.67451786e-01,\n",
       "        -3.52490407e-01,  -1.19801877e+00,   7.48620159e-01,\n",
       "         7.40318983e-01,  -2.24102594e+00,   1.88630851e-03,\n",
       "         1.19988048e+00,   8.44866275e-01,  -1.65973350e-01,\n",
       "         2.45081799e+00,   1.27508503e+00,   3.44178430e-01,\n",
       "        -7.88132217e-01,   1.33884772e+00,   6.95318743e-01,\n",
       "         1.63782185e+00,  -8.82186164e-01,   1.45498948e+00,\n",
       "         1.09750624e+00,  -3.93785544e-01,   1.75627432e+00,\n",
       "         1.61165119e-01,  -1.16387809e+00,   1.80714095e+00,\n",
       "         7.14672137e-01,   2.92776685e-01,  -5.73875705e-01,\n",
       "        -8.57046154e-01,   4.96441547e-01,  -5.17387216e-01,\n",
       "        -1.19065125e+00,  -2.34471219e+00,   1.01883652e-01,\n",
       "        -1.38447096e+00,   4.37035875e-01,   3.72615033e-01,\n",
       "         1.88643258e-01,  -1.41342751e+00,   4.01549151e-01,\n",
       "         2.81184121e-01,  -7.51936688e-01,  -3.10014587e-01,\n",
       "        -1.79268728e+00,  -7.53038685e-01,   1.27425504e+00,\n",
       "         1.45314865e+00,  -7.65946642e-01,   5.42586282e-01,\n",
       "         2.38858352e-01,  -1.82436745e+00,  -2.71888137e-01,\n",
       "        -8.02110413e-01,   7.94922691e-01,   7.99739249e-01,\n",
       "        -9.01725301e-01,   1.15516777e+00,   2.32769164e-01,\n",
       "         1.34731177e+00,  -1.15798431e-01,  -1.40280548e-01,\n",
       "        -1.18347380e+00,   7.70506964e-01,   7.59815919e-02,\n",
       "         6.00835920e-01,   1.70263521e+00,   3.74754470e-01,\n",
       "        -1.14196614e+00,  -5.89729437e-01,  -2.16071791e+00,\n",
       "        -7.31723480e-01,  -2.17839450e-01,  -3.45088100e-01,\n",
       "         1.43104602e-01,   8.99396252e-01,   1.51428285e+00,\n",
       "        -5.90170913e-01,   2.73349706e-01,  -3.23511352e-01,\n",
       "         2.01119664e+00,  -1.25274006e+00,   1.67723589e+00,\n",
       "         1.49836081e+00,  -1.55852315e+00,   1.08096398e+00,\n",
       "        -2.75115031e-01,   1.87836162e-01,   9.79710324e-01,\n",
       "         1.03048013e+00,   7.60446011e-01,  -5.58421191e-02,\n",
       "         2.02882054e+00,  -1.01685971e+00,  -1.83167065e+00,\n",
       "         1.39410821e+00,   3.46782084e-01,   1.45352414e+00,\n",
       "         4.57918077e-01,   3.90564836e-01,   6.50274023e-02,\n",
       "         6.04095814e-01,   8.15717942e-01,  -6.92114128e-02,\n",
       "        -7.91684132e-02,   1.75283901e+00,   6.10007998e-01,\n",
       "        -5.31758828e-01,  -7.18095119e-02,   1.21264017e+00,\n",
       "        -8.50049785e-01,   3.98388268e-01,   5.06142512e-01,\n",
       "         9.35204957e-01,  -2.99809485e-01,  -3.40362356e-01,\n",
       "        -4.54750080e-01,  -1.45585919e+00,  -4.87931532e-01,\n",
       "         3.14426171e-01,  -1.93003374e-01,  -4.95124073e-01,\n",
       "         8.19372087e-02,   1.96509094e-01,  -4.99998491e-02,\n",
       "        -2.52773149e+00,   5.05755656e-01,  -1.45200902e+00,\n",
       "        -1.64887724e+00,   1.14049074e+00,   1.31179141e+00,\n",
       "        -3.31515882e-01,   1.80251090e+00,  -9.73274541e-01,\n",
       "        -5.25118021e-01,  -1.46894499e+00,  -1.39766616e+00,\n",
       "         1.25852961e+00,  -1.85999670e-02,  -7.27878134e-01,\n",
       "        -1.20285017e-01,   1.97681462e-01,   7.46011264e-01,\n",
       "        -7.87460595e-01,   4.22598964e-01,  -7.95299546e-01,\n",
       "         6.38211526e-01,   3.32494712e-01,   3.09148515e-01,\n",
       "         6.56519348e-01,  -5.75301738e-01,  -1.17492842e+00,\n",
       "        -4.53957462e-01,  -1.48965861e-01,   1.71955362e+00,\n",
       "        -1.40155271e-01,   1.18249135e+00,  -9.24512080e-01,\n",
       "        -8.62744544e-02,  -2.72721026e+00,   3.23286135e-01,\n",
       "         1.26802187e+00,  -1.01764979e+00,   1.44386623e+00,\n",
       "         1.94727189e-01,  -5.07896045e-01,  -1.21170625e+00,\n",
       "        -8.80437127e-01,   8.27242022e-01,  -5.91841109e-01,\n",
       "         2.40811787e-01,  -2.99044725e-01,   1.50039060e+00,\n",
       "         1.31996731e+00,   1.35957693e+00,  -1.05689236e+00,\n",
       "        -1.80646591e+00,   4.53986227e-01,  -1.15380238e+00,\n",
       "        -1.75713681e+00,  -7.41309184e-01,  -7.38120426e-01,\n",
       "        -1.91186446e+00,   4.13920204e-01,  -4.83748281e-01,\n",
       "         8.77263145e-01,  -4.18170376e-02,   1.07083575e+00,\n",
       "         7.24266480e-01,  -2.19066715e+00,  -1.33131271e+00,\n",
       "         1.10029309e+00,  -7.49408425e-01,  -1.70059028e+00,\n",
       "         1.11506728e+00,   1.21032507e+00,   1.64441241e+00,\n",
       "        -5.84888296e-01,  -1.98766819e+00,  -1.25163794e+00,\n",
       "        -9.34315215e-01,   4.16642009e-01,  -1.48653895e+00,\n",
       "         2.16900960e-02,   7.27827795e-01,   8.84191150e-01,\n",
       "        -1.45958321e+00,   4.28220281e-01,   7.91462945e-03,\n",
       "         2.24558488e-01,  -2.49070419e-01,  -1.06154851e+00,\n",
       "         3.34194162e-01,  -1.46045755e+00,  -3.65411274e-01,\n",
       "        -8.63085689e-01,  -7.57719626e-01,   1.31291753e+00,\n",
       "         5.77015600e-01,  -7.61728219e-01,   1.63843486e-01,\n",
       "         1.11056412e+00,  -1.59596751e-01,   7.29018689e-01,\n",
       "         9.12167228e-01,  -1.12193358e+00,  -4.59548656e-01,\n",
       "        -6.19195756e-01,   1.38705406e+00,  -5.16844491e-01,\n",
       "        -3.10562822e-01,   2.23338844e+00,   5.31780335e-01,\n",
       "        -1.26254987e+00,   1.41462158e-01,  -9.28488428e-01,\n",
       "         1.36530148e+00,  -2.79282787e-01,   1.06698703e+00,\n",
       "         1.19151723e+00,  -1.23722985e+00,  -9.37795022e-01,\n",
       "        -8.19576892e-01,   1.10613345e+00,   2.12935977e-01,\n",
       "        -1.01303932e+00,  -3.41730015e-01,  -1.14673431e+00,\n",
       "        -2.01382684e+00,   8.77054797e-01,   2.19364286e+00,\n",
       "         7.90390559e-01,  -1.16278284e+00,   1.71393692e+00,\n",
       "         9.86056339e-02,  -6.09670197e-01,  -9.83124485e-01,\n",
       "        -8.37388050e-01,  -1.06053011e+00,  -1.56236594e+00,\n",
       "        -2.00672403e-01,   2.27680428e+00,   5.39256796e-01,\n",
       "         4.63430078e-01,   1.26385858e+00,  -1.62742890e+00,\n",
       "        -1.10537749e+00,   1.44528956e+00,  -5.70281284e-01,\n",
       "         9.64610499e-02,   4.94989530e-01,  -1.21134574e+00,\n",
       "        -1.68449351e+00,  -1.36985758e+00])"
      ]
     },
     "execution_count": 11,
     "metadata": {},
     "output_type": "execute_result"
    }
   ],
   "source": [
    "alpha_vector = simulate_alpha_vector()\n",
    "alpha_vector"
   ]
  },
  {
   "cell_type": "markdown",
   "metadata": {},
   "source": [
    "### Simulate Optimized portfolio weights\n",
    "You'll learn about optimization using a risk model and constraints in a later lesson. For now, we'll simulate portfolio weight optimization by addng some adjustments to the original alpha vector, and pretending these adjusted values are the portfolio weights that are output by an optimizer."
   ]
  },
  {
   "cell_type": "code",
   "execution_count": 12,
   "metadata": {},
   "outputs": [],
   "source": [
    "def simulate_optimized_weights(alpha_vector):\n",
    "    standard_alpha_vector = standardize_alpha(alpha_vector)\n",
    "    # add some noise tha tsimulates optimization adjusting the weights\n",
    "    optimized_weights = standard_alpha_vector + np.random.normal(scale = 0.001, size = num_stocks)\n",
    "    return optimized_weights"
   ]
  },
  {
   "cell_type": "code",
   "execution_count": 13,
   "metadata": {},
   "outputs": [],
   "source": [
    "optimized_weights = simulate_optimized_weights(alpha_vector)"
   ]
  },
  {
   "cell_type": "markdown",
   "metadata": {},
   "source": [
    "### Visualize alpha vector versus optimized weights"
   ]
  },
  {
   "cell_type": "code",
   "execution_count": 14,
   "metadata": {},
   "outputs": [
    {
     "data": {
      "image/png": "[encoded data removed]",
      "text/plain": [
       "<matplotlib.figure.Figure at 0x7f858f011e10>"
      ]
     },
     "metadata": {},
     "output_type": "display_data"
    }
   ],
   "source": [
    "plt.scatter(alpha_vector, optimized_weights);"
   ]
  },
  {
   "cell_type": "code",
   "execution_count": 15,
   "metadata": {},
   "outputs": [],
   "source": [
    "def calculate_transfer_coefficient(alpha_vector, optimized_weights):\n",
    "    # todo calculate the transfer coefficient\n",
    "    transfer_coefficient, pvaue = pearsonr(alpha_vector, optimized_weights)\n",
    "    return transfer_coefficient"
   ]
  },
  {
   "cell_type": "code",
   "execution_count": 16,
   "metadata": {},
   "outputs": [],
   "source": [
    "transfer_coefficient = calculate_transfer_coefficient(alpha_vector, optimized_weights)"
   ]
  },
  {
   "cell_type": "code",
   "execution_count": 17,
   "metadata": {},
   "outputs": [
    {
     "data": {
      "text/plain": [
       "0.99999947933097488"
      ]
     },
     "execution_count": 17,
     "metadata": {},
     "output_type": "execute_result"
    }
   ],
   "source": [
    "transfer_coefficient"
   ]
  },
  {
   "cell_type": "code",
   "execution_count": null,
   "metadata": {},
   "outputs": [],
   "source": []
  }
 ],
 "metadata": {
  "kernelspec": {
   "display_name": "Python 2",
   "language": "python",
   "name": "python2"
  },
  "language_info": {
   "codemirror_mode": {
    "name": "ipython",
    "version": 2
   },
   "file_extension": ".py",
   "mimetype": "text/x-python",
   "name": "python",
   "nbconvert_exporter": "python",
   "pygments_lexer": "ipython2",
   "version": "2.7.12"
  }
 },
 "nbformat": 4,
 "nbformat_minor": 2
}