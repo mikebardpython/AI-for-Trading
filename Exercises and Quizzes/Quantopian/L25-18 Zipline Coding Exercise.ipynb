{
 "cells": [
  {
   "cell_type": "markdown",
   "metadata": {},
   "source": [
    "### Imports"
   ]
  },
  {
   "cell_type": "code",
   "execution_count": 1,
   "metadata": {},
   "outputs": [],
   "source": [
    "# Source\n",
    "# https://www.quantopian.com/research/notebooks/S13%20L109%20-%20Advanced%20Quantopian%20%26%20Trading%20Algorithms.ipynb\n",
    "from quantopian.pipeline import Pipeline\n",
    "from quantopian.research import run_pipeline\n",
    "from quantopian.pipeline.data.builtin import USEquityPricing\n",
    "from quantopian.pipeline.filters import Q1500US"
   ]
  },
  {
   "cell_type": "markdown",
   "metadata": {},
   "source": [
    "### Build an Empty Pipeline with a Screen\n",
    "In the code below create an empty pipeline with a screen that filters the pipeline output for stocks with a 60-day average dollar volume greater then $50,000"
   ]
  },
  {
   "cell_type": "code",
   "execution_count": 2,
   "metadata": {},
   "outputs": [
    {
     "data": {
      "text/plain": [
       "<zipline.pipeline.pipeline.Pipeline at 0x7f94c0c4f8c0>"
      ]
     },
     "execution_count": 2,
     "metadata": {},
     "output_type": "execute_result"
    }
   ],
   "source": [
    "# Source - Udacity Factors L21: 13\n",
    "from quantopian.pipeline.factors import AverageDollarVolume\n",
    "\n",
    "# Create a screen for our pipeline\n",
    "universe = AverageDollarVolume(window_length = 60) > 50000\n",
    "universe\n",
    "\n",
    "# create an empty pipeline with the given screen\n",
    "pipeline = Pipeline(screen = universe)\n",
    "pipeline"
   ]
  },
  {
   "cell_type": "markdown",
   "metadata": {},
   "source": [
    "### Create a Pipeline Engine\n",
    "In the code below, create a data loader that loads oru data bundle using Zipline's `USEquityPricingLoader`. Then create a function to be passed to the `get_loader` parameter in the pipline engine. Using the NYSE trading calendar create a pipeline engine using Zipline's `SimplePipelineEngine`."
   ]
  },
  {
   "cell_type": "code",
   "execution_count": 3,
   "metadata": {},
   "outputs": [
    {
     "ename": "SandboxViolation",
     "evalue": "Importing SimplePipelineEngine from pipline.engine raised an ImportError. No modules or attributes with a similar name were found.",
     "output_type": "error",
     "traceback": [
      "InputRejected:",
      "Importing SimplePipelineEngine from pipline.engine raised an ImportError. No modules or attributes with a similar name were found."
     ]
    }
   ],
   "source": [
    "# import resources\n",
    "from zipline.utils.calendars import get_calendar\n",
    "from zipline.pipeline.data import USEquityPricing\n",
    "# from zipline.pipline.engine import SimplePipelineEngine\n",
    "from pipline.engine import SimplePipelineEngine\n",
    "from zipline.pipline.loaders import USEquityPricingLoader\n",
    "\n",
    "# Set the trading calendar\n",
    "trading_calendar = get_calendar('NYSE')"
   ]
  },
  {
   "cell_type": "markdown",
   "metadata": {},
   "source": [
    "## Create Factors and Filters for the pipeline\n",
    "### Factors\n",
    "In the code below, create 2 factors:\n",
    "1. **Custom Factor:** Create a custom factor, `percent_difference`, by combining a 30-day average closing price factor and a 60-day average closing price factor. The `percent_difference` factor will calculate the difference between teh 30-day and the 60-day average closing price factors, and will then normalize this difference by the 60-day average closing price factor.\n",
    "\n",
    "2. **Daily Returns Factor:** Create a factor that returns the daily percent change in closing price. To do this, use Ziplines built-in [DailyReturns](https://www.zipline.io/appendix.html#zipline.pipeline.factors.DailyReturns) factor.\n",
    "\n",
    "Both factors should use the closing prices in the `USEquityPricing` dataset as inputs.\n",
    "\n",
    "### Filters\n",
    "In the code below, you will create a **Custom Filter**, `tradable_asset` that returns `True` for the top 20 securities of average dollar volume in a 30 day-window that have a latest closing price above $30. To do this, you will create two filters first and then combine them. For the first filter, you can use Zipline's built-in factor `AverageDollarVolume()`  and its method `.top()` to select the top 20 assets of average dollar volume in a 30 day-window. To get the latest closing price of the `USEquityPricing` dataset you can use `USEquityPricing.close.latest`. Finally you can combine these two filters by using the logical operator `&`."
   ]
  },
  {
   "cell_type": "code",
   "execution_count": 4,
   "metadata": {},
   "outputs": [],
   "source": [
    "# import resources\n",
    "import pandas as pd\n",
    "from zipline.pipeline.factors import SimpleMovingAverage\n",
    "from zipline.pipeline.factors import DailyReturns\n",
    "\n",
    "\n",
    "# Create the 30-day average closing price factor\n",
    "mean_close_30 = SimpleMovingAverage(inputs = [USEquityPricing.close], window_length = 30)\n",
    "\n",
    "# Create the 60-day average closing price factor\n",
    "mean_close_60 = SimpleMovingAverage(inputs = [USEquityPricing.close], window_length = 60)\n",
    "\n",
    "# Create the custom factor\n",
    "percent_difference = (mean_close_30 - mean_close_60) / mean_close_60\n",
    "\n",
    "# Create the daily returns factor\n",
    "daily_ret = DailyReturns(inputs=[USEquityPricing.close])\n",
    "\n",
    "# Create a filter for the top 20 securities of average dollar volume in a 30 day-window\n",
    "top_20 = AverageDollarVolume(window_length = 30).top(20)\n",
    "\n",
    "# Create a filter for the latest closing price above $30\n",
    "above_30 = USEquityPricing.close.latest > 30\n",
    "\n",
    "# Create a custum filter\n",
    "tradable_asset = top_20 & above_30"
   ]
  },
  {
   "cell_type": "markdown",
   "metadata": {},
   "source": [
    "### Add factors and filters to the pipeline\n",
    "in the code below, add the factors and filters you created above to the pipeline"
   ]
  },
  {
   "cell_type": "code",
   "execution_count": 5,
   "metadata": {},
   "outputs": [],
   "source": [
    "# Add the custom factor to the pipeline\n",
    "pipeline.add(percent_difference, 'Percent Difference')\n",
    "\n",
    "# Add the daily returns factor to the pipeline\n",
    "pipeline.add(daily_ret, 'Daily Return')\n",
    "\n",
    "# Add the custom filter to the pipeline\n",
    "pipeline.add(tradable_asset, 'Tradable')"
   ]
  },
  {
   "cell_type": "code",
   "execution_count": 6,
   "metadata": {},
   "outputs": [],
   "source": [
    "# Add the latest closing price to the pipeline\n",
    "pipeline.add(USEquityPricing.close.latest, 'Latest Price')"
   ]
  },
  {
   "cell_type": "markdown",
   "metadata": {},
   "source": [
    "### Run the Pipeline\n",
    "In the code below run the pipeline for the dates given"
   ]
  },
  {
   "cell_type": "code",
   "execution_count": 7,
   "metadata": {},
   "outputs": [
    {
     "data": {
      "application/vnd.jupyter.widget-view+json": {
       "model_id": "",
       "version_major": 2,
       "version_minor": 0
      },
      "text/plain": []
     },
     "metadata": {},
     "output_type": "display_data"
    },
    {
     "data": {
      "text/html": [
       "<b>Pipeline Execution Time:</b> 28.10 Seconds"
      ],
      "text/plain": [
       "<IPython.core.display.HTML object>"
      ]
     },
     "metadata": {},
     "output_type": "display_data"
    },
    {
     "data": {
      "text/html": [
       "<div>\n",
       "<table border=\"1\" class=\"dataframe\">\n",
       "  <thead>\n",
       "    <tr style=\"text-align: right;\">\n",
       "      <th></th>\n",
       "      <th></th>\n",
       "      <th>Daily Return</th>\n",
       "      <th>Latest Price</th>\n",
       "      <th>Percent Difference</th>\n",
       "      <th>Tradable</th>\n",
       "    </tr>\n",
       "  </thead>\n",
       "  <tbody>\n",
       "    <tr>\n",
       "      <th rowspan=\"5\" valign=\"top\">2014-01-06 00:00:00+00:00</th>\n",
       "      <th>Equity(2 [ARNC])</th>\n",
       "      <td>0.003894</td>\n",
       "      <td>10.57</td>\n",
       "      <td>0.041071</td>\n",
       "      <td>False</td>\n",
       "    </tr>\n",
       "    <tr>\n",
       "      <th>Equity(24 [AAPL])</th>\n",
       "      <td>-0.022034</td>\n",
       "      <td>541.04</td>\n",
       "      <td>0.035897</td>\n",
       "      <td>True</td>\n",
       "    </tr>\n",
       "    <tr>\n",
       "      <th>Equity(31 [ABAX])</th>\n",
       "      <td>-0.001747</td>\n",
       "      <td>40.01</td>\n",
       "      <td>0.009341</td>\n",
       "      <td>False</td>\n",
       "    </tr>\n",
       "    <tr>\n",
       "      <th>Equity(39 [DDC])</th>\n",
       "      <td>-0.011088</td>\n",
       "      <td>14.27</td>\n",
       "      <td>0.014351</td>\n",
       "      <td>False</td>\n",
       "    </tr>\n",
       "    <tr>\n",
       "      <th>Equity(41 [ARCB])</th>\n",
       "      <td>0.000000</td>\n",
       "      <td>33.83</td>\n",
       "      <td>0.097416</td>\n",
       "      <td>False</td>\n",
       "    </tr>\n",
       "  </tbody>\n",
       "</table>\n",
       "</div>"
      ],
      "text/plain": [
       "                                             Daily Return  Latest Price  \\\n",
       "2014-01-06 00:00:00+00:00 Equity(2 [ARNC])       0.003894         10.57   \n",
       "                          Equity(24 [AAPL])     -0.022034        541.04   \n",
       "                          Equity(31 [ABAX])     -0.001747         40.01   \n",
       "                          Equity(39 [DDC])      -0.011088         14.27   \n",
       "                          Equity(41 [ARCB])      0.000000         33.83   \n",
       "\n",
       "                                             Percent Difference Tradable  \n",
       "2014-01-06 00:00:00+00:00 Equity(2 [ARNC])             0.041071    False  \n",
       "                          Equity(24 [AAPL])            0.035897     True  \n",
       "                          Equity(31 [ABAX])            0.009341    False  \n",
       "                          Equity(39 [DDC])             0.014351    False  \n",
       "                          Equity(41 [ARCB])            0.097416    False  "
      ]
     },
     "execution_count": 7,
     "metadata": {},
     "output_type": "execute_result"
    }
   ],
   "source": [
    "# Set starting and end dates\n",
    "start_date = pd.Timestamp('2014-01-06', tz='utc')\n",
    "end_date = pd.Timestamp('2019-07-25', tz='utc')\n",
    "\n",
    "# Run our pipeline for the given start and end dates\n",
    "output = run_pipeline(pipeline, start_date, end_date)\n",
    "\n",
    "\n",
    "# Display the pipeline output\n",
    "output.head()"
   ]
  },
  {
   "cell_type": "code",
   "execution_count": 8,
   "metadata": {},
   "outputs": [
    {
     "data": {
      "text/html": [
       "<div>\n",
       "<table border=\"1\" class=\"dataframe\">\n",
       "  <thead>\n",
       "    <tr style=\"text-align: right;\">\n",
       "      <th></th>\n",
       "      <th></th>\n",
       "      <th>Daily Return</th>\n",
       "      <th>Latest Price</th>\n",
       "      <th>Percent Difference</th>\n",
       "      <th>Tradable</th>\n",
       "    </tr>\n",
       "  </thead>\n",
       "  <tbody>\n",
       "    <tr>\n",
       "      <th rowspan=\"5\" valign=\"top\">2019-07-25 00:00:00+00:00</th>\n",
       "      <th>Equity(53360 [IHRT])</th>\n",
       "      <td>-0.036697</td>\n",
       "      <td>15.75</td>\n",
       "      <td>0.0</td>\n",
       "      <td>False</td>\n",
       "    </tr>\n",
       "    <tr>\n",
       "      <th>Equity(53361 [IFS])</th>\n",
       "      <td>-0.024363</td>\n",
       "      <td>43.65</td>\n",
       "      <td>0.0</td>\n",
       "      <td>False</td>\n",
       "    </tr>\n",
       "    <tr>\n",
       "      <th>Equity(53362 [MDLA])</th>\n",
       "      <td>0.109166</td>\n",
       "      <td>40.54</td>\n",
       "      <td>0.0</td>\n",
       "      <td>False</td>\n",
       "    </tr>\n",
       "    <tr>\n",
       "      <th>Equity(53364 [WBIN])</th>\n",
       "      <td>0.001997</td>\n",
       "      <td>20.07</td>\n",
       "      <td>0.0</td>\n",
       "      <td>False</td>\n",
       "    </tr>\n",
       "    <tr>\n",
       "      <th>Equity(53365 [AFYA])</th>\n",
       "      <td>0.115008</td>\n",
       "      <td>27.34</td>\n",
       "      <td>0.0</td>\n",
       "      <td>False</td>\n",
       "    </tr>\n",
       "  </tbody>\n",
       "</table>\n",
       "</div>"
      ],
      "text/plain": [
       "                                                Daily Return  Latest Price  \\\n",
       "2019-07-25 00:00:00+00:00 Equity(53360 [IHRT])     -0.036697         15.75   \n",
       "                          Equity(53361 [IFS])      -0.024363         43.65   \n",
       "                          Equity(53362 [MDLA])      0.109166         40.54   \n",
       "                          Equity(53364 [WBIN])      0.001997         20.07   \n",
       "                          Equity(53365 [AFYA])      0.115008         27.34   \n",
       "\n",
       "                                                Percent Difference Tradable  \n",
       "2019-07-25 00:00:00+00:00 Equity(53360 [IHRT])                 0.0    False  \n",
       "                          Equity(53361 [IFS])                  0.0    False  \n",
       "                          Equity(53362 [MDLA])                 0.0    False  \n",
       "                          Equity(53364 [WBIN])                 0.0    False  \n",
       "                          Equity(53365 [AFYA])                 0.0    False  "
      ]
     },
     "execution_count": 8,
     "metadata": {},
     "output_type": "execute_result"
    }
   ],
   "source": [
    "output.tail()"
   ]
  },
  {
   "cell_type": "code",
   "execution_count": null,
   "metadata": {},
   "outputs": [],
   "source": []
  }
 ],
 "metadata": {
  "kernelspec": {
   "display_name": "Python 2",
   "language": "python",
   "name": "python2"
  },
  "language_info": {
   "codemirror_mode": {
    "name": "ipython",
    "version": 2
   },
   "file_extension": ".py",
   "mimetype": "text/x-python",
   "name": "python",
   "nbconvert_exporter": "python",
   "pygments_lexer": "ipython2",
   "version": "2.7.12"
  }
 },
 "nbformat": 4,
 "nbformat_minor": 2
}