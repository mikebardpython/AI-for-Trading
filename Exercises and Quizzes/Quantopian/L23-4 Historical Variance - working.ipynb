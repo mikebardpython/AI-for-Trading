{
 "cells": [
  {
   "cell_type": "code",
   "execution_count": 41,
   "metadata": {},
   "outputs": [],
   "source": [
    "# Imports\n",
    "import pandas as pd\n",
    "import numpy as np\n",
    "from quantopian.pipeline import Pipeline\n",
    "from quantopian.research import run_pipeline\n",
    "from zipline.pipeline.data import USEquityPricing\n",
    "from quantopian.pipeline.filters import Q1500US\n",
    "\n",
    "from quantopian.pipeline.factors import AverageDollarVolume\n",
    "from zipline.utils.calendars import get_calendar\n",
    "#from pipline.engine import SimplePipelineEngine\n",
    "#from zipline.pipline.loaders import USEquityPricingLoader\n",
    "\n",
    "\n",
    "from quantopian.pipeline.factors import Returns\n",
    "from zipline.pipeline.factors import DailyReturns\n",
    "\n",
    "from quantopian.pipeline.data import morningstar as mstar\n",
    "\n",
    "#from zipline.pipeline.factors import SimpleMovingAverage\n",
    "\n",
    "trading_calendar = get_calendar('NYSE')"
   ]
  },
  {
   "cell_type": "code",
   "execution_count": 42,
   "metadata": {},
   "outputs": [],
   "source": [
    "#universe = AverageDollarVolume(window_length = 1).top(10)\n",
    "##universe = AverageDollarVolume(window_length = 60) > 50000\n",
    "#universe"
   ]
  },
  {
   "cell_type": "code",
   "execution_count": 67,
   "metadata": {},
   "outputs": [],
   "source": [
    "# Equities for which morningstar's most recent Market Cap value is above $20b.\n",
    "have_market_cap = (mstar.valuation.market_cap.latest > 20000000000)"
   ]
  },
  {
   "cell_type": "code",
   "execution_count": 68,
   "metadata": {},
   "outputs": [],
   "source": [
    "#universe1 = Q1500US"
   ]
  },
  {
   "cell_type": "code",
   "execution_count": 69,
   "metadata": {},
   "outputs": [],
   "source": [
    "# create an empty pipeline with the Q500US screen\n",
    "#pipeline = Pipeline(screen=universe)\n",
    "pipeline = Pipeline(screen=have_market_cap)"
   ]
  },
  {
   "cell_type": "code",
   "execution_count": 70,
   "metadata": {},
   "outputs": [],
   "source": [
    "# create daily returns factor\n",
    "daily_ret = DailyReturns(inputs=[USEquityPricing.close])\n",
    "\n",
    "#daily_ret = DailyReturns(inputs=[universe.close])"
   ]
  },
  {
   "cell_type": "markdown",
   "metadata": {},
   "source": [
    "### Add factors and filters to the pipeline\n",
    "in the code below, add the factors and filters you created above to the pipeline"
   ]
  },
  {
   "cell_type": "code",
   "execution_count": 71,
   "metadata": {},
   "outputs": [],
   "source": [
    "# Add the daily returns factor to the pipeline\n",
    "pipeline.add(daily_ret, 'daily_return')\n"
   ]
  },
  {
   "cell_type": "code",
   "execution_count": 72,
   "metadata": {},
   "outputs": [],
   "source": [
    "#pipeline.add(universe, 'universe')"
   ]
  },
  {
   "cell_type": "markdown",
   "metadata": {},
   "source": [
    "This batch of code will create a datetime indexed dataframe showing the top10 stocks with the highest dollar volume over a 1 day timeframe.\n",
    "\n",
    "**Note:** since average dollar volume is calculated daily based on the stock price * volume of shares traded this population of stocks may vary"
   ]
  },
  {
   "cell_type": "code",
   "execution_count": 75,
   "metadata": {},
   "outputs": [
    {
     "data": {
      "application/vnd.jupyter.widget-view+json": {
       "model_id": "",
       "version_major": 2,
       "version_minor": 0
      },
      "text/plain": []
     },
     "metadata": {},
     "output_type": "display_data"
    },
    {
     "data": {
      "text/html": [
       "<b>Pipeline Execution Time:</b> 1.68 Seconds"
      ],
      "text/plain": [
       "<IPython.core.display.HTML object>"
      ]
     },
     "metadata": {},
     "output_type": "display_data"
    },
    {
     "data": {
      "text/html": [
       "<div>\n",
       "<table border=\"1\" class=\"dataframe\">\n",
       "  <thead>\n",
       "    <tr style=\"text-align: right;\">\n",
       "      <th></th>\n",
       "      <th></th>\n",
       "      <th>daily_return</th>\n",
       "    </tr>\n",
       "  </thead>\n",
       "  <tbody>\n",
       "    <tr>\n",
       "      <th rowspan=\"14\" valign=\"top\">2019-07-24 00:00:00+00:00</th>\n",
       "      <th>Equity(24 [AAPL])</th>\n",
       "      <td>0.007745</td>\n",
       "    </tr>\n",
       "    <tr>\n",
       "      <th>Equity(1091 [BRK_A])</th>\n",
       "      <td>0.007579</td>\n",
       "    </tr>\n",
       "    <tr>\n",
       "      <th>Equity(4151 [JNJ])</th>\n",
       "      <td>0.001632</td>\n",
       "    </tr>\n",
       "    <tr>\n",
       "      <th>Equity(5061 [MSFT])</th>\n",
       "      <td>0.006213</td>\n",
       "    </tr>\n",
       "    <tr>\n",
       "      <th>Equity(8229 [WMT])</th>\n",
       "      <td>-0.006648</td>\n",
       "    </tr>\n",
       "    <tr>\n",
       "      <th>Equity(8347 [XOM])</th>\n",
       "      <td>0.003929</td>\n",
       "    </tr>\n",
       "    <tr>\n",
       "      <th>Equity(11100 [BRK_B])</th>\n",
       "      <td>0.008007</td>\n",
       "    </tr>\n",
       "    <tr>\n",
       "      <th>Equity(16841 [AMZN])</th>\n",
       "      <td>0.004305</td>\n",
       "    </tr>\n",
       "    <tr>\n",
       "      <th>Equity(25006 [JPM])</th>\n",
       "      <td>0.018201</td>\n",
       "    </tr>\n",
       "    <tr>\n",
       "      <th>Equity(26578 [GOOG_L])</th>\n",
       "      <td>0.007900</td>\n",
       "    </tr>\n",
       "    <tr>\n",
       "      <th>Equity(35920 [V])</th>\n",
       "      <td>0.001828</td>\n",
       "    </tr>\n",
       "    <tr>\n",
       "      <th>Equity(42950 [FB])</th>\n",
       "      <td>0.000445</td>\n",
       "    </tr>\n",
       "    <tr>\n",
       "      <th>Equity(46631 [GOOG])</th>\n",
       "      <td>0.007283</td>\n",
       "    </tr>\n",
       "    <tr>\n",
       "      <th>Equity(47740 [BABA])</th>\n",
       "      <td>0.024425</td>\n",
       "    </tr>\n",
       "    <tr>\n",
       "      <th rowspan=\"14\" valign=\"top\">2019-07-25 00:00:00+00:00</th>\n",
       "      <th>Equity(24 [AAPL])</th>\n",
       "      <td>-0.000742</td>\n",
       "    </tr>\n",
       "    <tr>\n",
       "      <th>Equity(1091 [BRK_A])</th>\n",
       "      <td>0.008599</td>\n",
       "    </tr>\n",
       "    <tr>\n",
       "      <th>Equity(4151 [JNJ])</th>\n",
       "      <td>0.007062</td>\n",
       "    </tr>\n",
       "    <tr>\n",
       "      <th>Equity(5061 [MSFT])</th>\n",
       "      <td>0.010266</td>\n",
       "    </tr>\n",
       "    <tr>\n",
       "      <th>Equity(8229 [WMT])</th>\n",
       "      <td>-0.000892</td>\n",
       "    </tr>\n",
       "    <tr>\n",
       "      <th>Equity(8347 [XOM])</th>\n",
       "      <td>0.000000</td>\n",
       "    </tr>\n",
       "    <tr>\n",
       "      <th>Equity(11100 [BRK_B])</th>\n",
       "      <td>0.007363</td>\n",
       "    </tr>\n",
       "    <tr>\n",
       "      <th>Equity(16841 [AMZN])</th>\n",
       "      <td>0.003294</td>\n",
       "    </tr>\n",
       "    <tr>\n",
       "      <th>Equity(25006 [JPM])</th>\n",
       "      <td>0.003867</td>\n",
       "    </tr>\n",
       "    <tr>\n",
       "      <th>Equity(26578 [GOOG_L])</th>\n",
       "      <td>-0.006923</td>\n",
       "    </tr>\n",
       "    <tr>\n",
       "      <th>Equity(35920 [V])</th>\n",
       "      <td>0.013545</td>\n",
       "    </tr>\n",
       "    <tr>\n",
       "      <th>Equity(42950 [FB])</th>\n",
       "      <td>0.011167</td>\n",
       "    </tr>\n",
       "    <tr>\n",
       "      <th>Equity(46631 [GOOG])</th>\n",
       "      <td>-0.007309</td>\n",
       "    </tr>\n",
       "    <tr>\n",
       "      <th>Equity(47740 [BABA])</th>\n",
       "      <td>0.001515</td>\n",
       "    </tr>\n",
       "    <tr>\n",
       "      <th rowspan=\"14\" valign=\"top\">2019-07-26 00:00:00+00:00</th>\n",
       "      <th>Equity(24 [AAPL])</th>\n",
       "      <td>-0.007763</td>\n",
       "    </tr>\n",
       "    <tr>\n",
       "      <th>Equity(1091 [BRK_A])</th>\n",
       "      <td>-0.001410</td>\n",
       "    </tr>\n",
       "    <tr>\n",
       "      <th>Equity(4151 [JNJ])</th>\n",
       "      <td>0.010712</td>\n",
       "    </tr>\n",
       "    <tr>\n",
       "      <th>Equity(5061 [MSFT])</th>\n",
       "      <td>-0.003766</td>\n",
       "    </tr>\n",
       "    <tr>\n",
       "      <th>Equity(8229 [WMT])</th>\n",
       "      <td>0.002590</td>\n",
       "    </tr>\n",
       "    <tr>\n",
       "      <th>Equity(8347 [XOM])</th>\n",
       "      <td>-0.005704</td>\n",
       "    </tr>\n",
       "    <tr>\n",
       "      <th>Equity(11100 [BRK_B])</th>\n",
       "      <td>-0.000289</td>\n",
       "    </tr>\n",
       "    <tr>\n",
       "      <th>Equity(16841 [AMZN])</th>\n",
       "      <td>-0.013003</td>\n",
       "    </tr>\n",
       "    <tr>\n",
       "      <th>Equity(25006 [JPM])</th>\n",
       "      <td>-0.008732</td>\n",
       "    </tr>\n",
       "    <tr>\n",
       "      <th>Equity(26578 [GOOG_L])</th>\n",
       "      <td>-0.002219</td>\n",
       "    </tr>\n",
       "    <tr>\n",
       "      <th>Equity(35920 [V])</th>\n",
       "      <td>-0.008891</td>\n",
       "    </tr>\n",
       "    <tr>\n",
       "      <th>Equity(42950 [FB])</th>\n",
       "      <td>-0.019350</td>\n",
       "    </tr>\n",
       "    <tr>\n",
       "      <th>Equity(46631 [GOOG])</th>\n",
       "      <td>-0.003388</td>\n",
       "    </tr>\n",
       "    <tr>\n",
       "      <th>Equity(47740 [BABA])</th>\n",
       "      <td>-0.006890</td>\n",
       "    </tr>\n",
       "  </tbody>\n",
       "</table>\n",
       "</div>"
      ],
      "text/plain": [
       "                                                  daily_return\n",
       "2019-07-24 00:00:00+00:00 Equity(24 [AAPL])           0.007745\n",
       "                          Equity(1091 [BRK_A])        0.007579\n",
       "                          Equity(4151 [JNJ])          0.001632\n",
       "                          Equity(5061 [MSFT])         0.006213\n",
       "                          Equity(8229 [WMT])         -0.006648\n",
       "                          Equity(8347 [XOM])          0.003929\n",
       "                          Equity(11100 [BRK_B])       0.008007\n",
       "                          Equity(16841 [AMZN])        0.004305\n",
       "                          Equity(25006 [JPM])         0.018201\n",
       "                          Equity(26578 [GOOG_L])      0.007900\n",
       "                          Equity(35920 [V])           0.001828\n",
       "                          Equity(42950 [FB])          0.000445\n",
       "                          Equity(46631 [GOOG])        0.007283\n",
       "                          Equity(47740 [BABA])        0.024425\n",
       "2019-07-25 00:00:00+00:00 Equity(24 [AAPL])          -0.000742\n",
       "                          Equity(1091 [BRK_A])        0.008599\n",
       "                          Equity(4151 [JNJ])          0.007062\n",
       "                          Equity(5061 [MSFT])         0.010266\n",
       "                          Equity(8229 [WMT])         -0.000892\n",
       "                          Equity(8347 [XOM])          0.000000\n",
       "                          Equity(11100 [BRK_B])       0.007363\n",
       "                          Equity(16841 [AMZN])        0.003294\n",
       "                          Equity(25006 [JPM])         0.003867\n",
       "                          Equity(26578 [GOOG_L])     -0.006923\n",
       "                          Equity(35920 [V])           0.013545\n",
       "                          Equity(42950 [FB])          0.011167\n",
       "                          Equity(46631 [GOOG])       -0.007309\n",
       "                          Equity(47740 [BABA])        0.001515\n",
       "2019-07-26 00:00:00+00:00 Equity(24 [AAPL])          -0.007763\n",
       "                          Equity(1091 [BRK_A])       -0.001410\n",
       "                          Equity(4151 [JNJ])          0.010712\n",
       "                          Equity(5061 [MSFT])        -0.003766\n",
       "                          Equity(8229 [WMT])          0.002590\n",
       "                          Equity(8347 [XOM])         -0.005704\n",
       "                          Equity(11100 [BRK_B])      -0.000289\n",
       "                          Equity(16841 [AMZN])       -0.013003\n",
       "                          Equity(25006 [JPM])        -0.008732\n",
       "                          Equity(26578 [GOOG_L])     -0.002219\n",
       "                          Equity(35920 [V])          -0.008891\n",
       "                          Equity(42950 [FB])         -0.019350\n",
       "                          Equity(46631 [GOOG])       -0.003388\n",
       "                          Equity(47740 [BABA])       -0.006890"
      ]
     },
     "execution_count": 75,
     "metadata": {},
     "output_type": "execute_result"
    }
   ],
   "source": [
    "# Set starting and end dates\n",
    "start_date = pd.Timestamp('2019-07-24', tz='utc')\n",
    "end_date = pd.Timestamp('2019-07-26', tz='utc')\n",
    "\n",
    "# Run our pipeline for the given start and end dates\n",
    "output = run_pipeline(pipeline, start_date, end_date)\n",
    "\n",
    "\n",
    "# Display the pipeline output\n",
    "output.head(50)"
   ]
  },
  {
   "cell_type": "code",
   "execution_count": 76,
   "metadata": {},
   "outputs": [
    {
     "data": {
      "text/plain": [
       "(42, 1)"
      ]
     },
     "execution_count": 76,
     "metadata": {},
     "output_type": "execute_result"
    }
   ],
   "source": [
    "output.shape"
   ]
  },
  {
   "cell_type": "code",
   "execution_count": 77,
   "metadata": {},
   "outputs": [
    {
     "data": {
      "text/html": [
       "<div>\n",
       "<table border=\"1\" class=\"dataframe\">\n",
       "  <thead>\n",
       "    <tr style=\"text-align: right;\">\n",
       "      <th></th>\n",
       "      <th>Equity(24 [AAPL])</th>\n",
       "      <th>Equity(1091 [BRK_A])</th>\n",
       "      <th>Equity(4151 [JNJ])</th>\n",
       "      <th>Equity(5061 [MSFT])</th>\n",
       "      <th>Equity(8229 [WMT])</th>\n",
       "      <th>Equity(8347 [XOM])</th>\n",
       "      <th>Equity(11100 [BRK_B])</th>\n",
       "      <th>Equity(16841 [AMZN])</th>\n",
       "      <th>Equity(25006 [JPM])</th>\n",
       "      <th>Equity(26578 [GOOG_L])</th>\n",
       "      <th>Equity(35920 [V])</th>\n",
       "      <th>Equity(42950 [FB])</th>\n",
       "      <th>Equity(46631 [GOOG])</th>\n",
       "      <th>Equity(47740 [BABA])</th>\n",
       "    </tr>\n",
       "  </thead>\n",
       "  <tbody>\n",
       "    <tr>\n",
       "      <th>2019-07-24 00:00:00+00:00</th>\n",
       "      <td>0.007745</td>\n",
       "      <td>0.007579</td>\n",
       "      <td>0.001632</td>\n",
       "      <td>0.006213</td>\n",
       "      <td>-0.006648</td>\n",
       "      <td>0.003929</td>\n",
       "      <td>0.008007</td>\n",
       "      <td>0.004305</td>\n",
       "      <td>0.018201</td>\n",
       "      <td>0.007900</td>\n",
       "      <td>0.001828</td>\n",
       "      <td>0.000445</td>\n",
       "      <td>0.007283</td>\n",
       "      <td>0.024425</td>\n",
       "    </tr>\n",
       "    <tr>\n",
       "      <th>2019-07-25 00:00:00+00:00</th>\n",
       "      <td>-0.000742</td>\n",
       "      <td>0.008599</td>\n",
       "      <td>0.007062</td>\n",
       "      <td>0.010266</td>\n",
       "      <td>-0.000892</td>\n",
       "      <td>0.000000</td>\n",
       "      <td>0.007363</td>\n",
       "      <td>0.003294</td>\n",
       "      <td>0.003867</td>\n",
       "      <td>-0.006923</td>\n",
       "      <td>0.013545</td>\n",
       "      <td>0.011167</td>\n",
       "      <td>-0.007309</td>\n",
       "      <td>0.001515</td>\n",
       "    </tr>\n",
       "    <tr>\n",
       "      <th>2019-07-26 00:00:00+00:00</th>\n",
       "      <td>-0.007763</td>\n",
       "      <td>-0.001410</td>\n",
       "      <td>0.010712</td>\n",
       "      <td>-0.003766</td>\n",
       "      <td>0.002590</td>\n",
       "      <td>-0.005704</td>\n",
       "      <td>-0.000289</td>\n",
       "      <td>-0.013003</td>\n",
       "      <td>-0.008732</td>\n",
       "      <td>-0.002219</td>\n",
       "      <td>-0.008891</td>\n",
       "      <td>-0.019350</td>\n",
       "      <td>-0.003388</td>\n",
       "      <td>-0.006890</td>\n",
       "    </tr>\n",
       "  </tbody>\n",
       "</table>\n",
       "</div>"
      ],
      "text/plain": [
       "                           Equity(24 [AAPL])  Equity(1091 [BRK_A])  \\\n",
       "2019-07-24 00:00:00+00:00           0.007745              0.007579   \n",
       "2019-07-25 00:00:00+00:00          -0.000742              0.008599   \n",
       "2019-07-26 00:00:00+00:00          -0.007763             -0.001410   \n",
       "\n",
       "                           Equity(4151 [JNJ])  Equity(5061 [MSFT])  \\\n",
       "2019-07-24 00:00:00+00:00            0.001632             0.006213   \n",
       "2019-07-25 00:00:00+00:00            0.007062             0.010266   \n",
       "2019-07-26 00:00:00+00:00            0.010712            -0.003766   \n",
       "\n",
       "                           Equity(8229 [WMT])  Equity(8347 [XOM])  \\\n",
       "2019-07-24 00:00:00+00:00           -0.006648            0.003929   \n",
       "2019-07-25 00:00:00+00:00           -0.000892            0.000000   \n",
       "2019-07-26 00:00:00+00:00            0.002590           -0.005704   \n",
       "\n",
       "                           Equity(11100 [BRK_B])  Equity(16841 [AMZN])  \\\n",
       "2019-07-24 00:00:00+00:00               0.008007              0.004305   \n",
       "2019-07-25 00:00:00+00:00               0.007363              0.003294   \n",
       "2019-07-26 00:00:00+00:00              -0.000289             -0.013003   \n",
       "\n",
       "                           Equity(25006 [JPM])  Equity(26578 [GOOG_L])  \\\n",
       "2019-07-24 00:00:00+00:00             0.018201                0.007900   \n",
       "2019-07-25 00:00:00+00:00             0.003867               -0.006923   \n",
       "2019-07-26 00:00:00+00:00            -0.008732               -0.002219   \n",
       "\n",
       "                           Equity(35920 [V])  Equity(42950 [FB])  \\\n",
       "2019-07-24 00:00:00+00:00           0.001828            0.000445   \n",
       "2019-07-25 00:00:00+00:00           0.013545            0.011167   \n",
       "2019-07-26 00:00:00+00:00          -0.008891           -0.019350   \n",
       "\n",
       "                           Equity(46631 [GOOG])  Equity(47740 [BABA])  \n",
       "2019-07-24 00:00:00+00:00              0.007283              0.024425  \n",
       "2019-07-25 00:00:00+00:00             -0.007309              0.001515  \n",
       "2019-07-26 00:00:00+00:00             -0.003388             -0.006890  "
      ]
     },
     "execution_count": 77,
     "metadata": {},
     "output_type": "execute_result"
    }
   ],
   "source": [
    "returns_df = output.daily_return.unstack().head().fillna(0)\n",
    "returns_df"
   ]
  },
  {
   "cell_type": "code",
   "execution_count": 78,
   "metadata": {},
   "outputs": [
    {
     "data": {
      "text/plain": [
       "(3, 14)"
      ]
     },
     "execution_count": 78,
     "metadata": {},
     "output_type": "execute_result"
    }
   ],
   "source": [
    "returns_df.shape"
   ]
  },
  {
   "cell_type": "code",
   "execution_count": 79,
   "metadata": {},
   "outputs": [],
   "source": [
    "ann_factor = 252\n",
    "cov_assets  = ann_factor*np.cov(returns_df.T)"
   ]
  },
  {
   "cell_type": "code",
   "execution_count": 80,
   "metadata": {},
   "outputs": [
    {
     "data": {
      "text/plain": [
       "array([[ 0.01519819,  0.00844386, -0.00892614,  0.00919295, -0.00909661,\n",
       "         0.00935762,  0.00788984,  0.0164407 ,  0.02636853,  0.01048769,\n",
       "         0.00942115,  0.0180709 ,  0.01099613,  0.03104352],\n",
       "       [ 0.00844386,  0.00764564, -0.00472993,  0.00984045, -0.00470577,\n",
       "         0.00586708,  0.00632108,  0.01334306,  0.01485199,  0.0012079 ,\n",
       "         0.01398058,  0.02076186,  0.00175588,  0.01437593],\n",
       "       [-0.00892614, -0.00472993,  0.00526026, -0.00503185,  0.0053696 ,\n",
       "        -0.00544402, -0.00448345, -0.00932924, -0.01547097, -0.00651805,\n",
       "        -0.0048544 , -0.00978122, -0.00679606, -0.01845519],\n",
       "       [ 0.00919295,  0.00984045, -0.00503185,  0.01314297, -0.00494453,\n",
       "         0.00673055,  0.00787646,  0.01668728,  0.0162733 , -0.00105591,\n",
       "         0.01971052,  0.02810752, -0.00032303,  0.01417737],\n",
       "       [-0.00909661, -0.00470577,  0.0053696 , -0.00494453,  0.00548564,\n",
       "        -0.0055221 , -0.00449399, -0.0093443 , -0.0157586 , -0.00682153,\n",
       "        -0.00460816, -0.00955251, -0.00709456, -0.01891892],\n",
       "       [ 0.00935762,  0.00586708, -0.00544402,  0.00673055, -0.0055221 ,\n",
       "         0.00591265,  0.00529602,  0.0110745 ,  0.01628096,  0.00541275,\n",
       "         0.00777869,  0.01355119,  0.00578585,  0.01846432],\n",
       "       [ 0.00788984,  0.00632108, -0.00448345,  0.00787646, -0.00449399,\n",
       "         0.00529602,  0.00536663,  0.01129525,  0.01382122,  0.00241519,\n",
       "         0.01062707,  0.01641312,  0.00285326,  0.01423247],\n",
       "       [ 0.0164407 ,  0.01334306, -0.00932924,  0.01668728, -0.0093443 ,\n",
       "         0.0110745 ,  0.01129525,  0.0237809 ,  0.02881214,  0.00476489,\n",
       "         0.02265167,  0.03482311,  0.00569314,  0.02949087],\n",
       "       [ 0.02636853,  0.01485199, -0.01547097,  0.0162733 , -0.0157586 ,\n",
       "         0.01628096,  0.01382122,  0.02881214,  0.04576264,  0.01788   ,\n",
       "         0.01694372,  0.03208598,  0.01878028,  0.05366344],\n",
       "       [ 0.01048769,  0.0012079 , -0.00651805, -0.00105591, -0.00682153,\n",
       "         0.00541275,  0.00241519,  0.00476489,  0.01788   ,  0.01445839,\n",
       "        -0.00717295, -0.00429279,  0.01439415,  0.02591103],\n",
       "       [ 0.00942115,  0.01398058, -0.0048544 ,  0.01971052, -0.00460816,\n",
       "         0.00777869,  0.01062707,  0.02265167,  0.01694372, -0.00717295,\n",
       "         0.03173339,  0.04294404, -0.00607176,  0.01074294],\n",
       "       [ 0.0180709 ,  0.02076186, -0.00978122,  0.02810752, -0.00955251,\n",
       "         0.01355119,  0.01641312,  0.03482311,  0.03208598, -0.00429279,\n",
       "         0.04294404,  0.06039866, -0.0027247 ,  0.02649065],\n",
       "       [ 0.01099613,  0.00175588, -0.00679606, -0.00032303, -0.00709456,\n",
       "         0.00578585,  0.00285326,  0.00569314,  0.01878028,  0.01439415,\n",
       "        -0.00607176, -0.0027247 ,  0.01437078,  0.02669152],\n",
       "       [ 0.03104352,  0.01437593, -0.01845519,  0.01417737, -0.01891892,\n",
       "         0.01846432,  0.01423247,  0.02949087,  0.05366344,  0.02591103,\n",
       "         0.01074294,  0.02649065,  0.02669152,  0.06619953]])"
      ]
     },
     "execution_count": 80,
     "metadata": {},
     "output_type": "execute_result"
    }
   ],
   "source": [
    "cov_assets"
   ]
  },
  {
   "cell_type": "code",
   "execution_count": 81,
   "metadata": {},
   "outputs": [
    {
     "data": {
      "text/plain": [
       "(14, 14)"
      ]
     },
     "execution_count": 81,
     "metadata": {},
     "output_type": "execute_result"
    }
   ],
   "source": [
    "cov_assets.shape"
   ]
  },
  {
   "cell_type": "code",
   "execution_count": 15,
   "metadata": {},
   "outputs": [],
   "source": [
    "# import seaborn as sns"
   ]
  },
  {
   "cell_type": "code",
   "execution_count": 16,
   "metadata": {},
   "outputs": [],
   "source": [
    "# # view a heatmap of the covariance matrix\n",
    "# sns.heatmap(cov_assets, cmap = 'Paired')\n",
    "# # if the colors are not distinctive, please try a couple of these color schemes\n",
    "# cmap = 'tab10'"
   ]
  },
  {
   "cell_type": "code",
   "execution_count": null,
   "metadata": {},
   "outputs": [],
   "source": []
  }
 ],
 "metadata": {
  "kernelspec": {
   "display_name": "Python 2",
   "language": "python",
   "name": "python2"
  },
  "language_info": {
   "codemirror_mode": {
    "name": "ipython",
    "version": 2
   },
   "file_extension": ".py",
   "mimetype": "text/x-python",
   "name": "python",
   "nbconvert_exporter": "python",
   "pygments_lexer": "ipython2",
   "version": "2.7.12"
  }
 },
 "nbformat": 4,
 "nbformat_minor": 2
}