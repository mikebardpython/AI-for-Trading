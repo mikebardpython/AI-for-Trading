{
 "cells": [
  {
   "cell_type": "markdown",
   "metadata": {},
   "source": [
    "# Concept 1 - Lesson 7\n",
    "## Momentum Trading - Dtype"
   ]
  },
  {
   "cell_type": "markdown",
   "metadata": {},
   "source": [
    "### Dtype Object\n",
    "Let's look into how you might generate positions from signals. To do that, we first need to know about `dtype` or dta type object in Numpy.\n",
    "\n",
    "A [data_type_object](https://docs.scipy.org/doc/numpy-1.13.0/reference/arrays.dtypes.html) is a class that irepresents the data. It's similar to a `data type` but contains [more information](https://docs.scipy.org/doc/numpy-1.13.0/reference/arrays.dtypes.html) about the data. Let's see an example of a data type object in Numpy using the `array`."
   ]
  },
  {
   "cell_type": "code",
   "execution_count": 1,
   "metadata": {},
   "outputs": [
    {
     "name": "stdout",
     "output_type": "stream",
     "text": [
      "[0 1 2 3 4 5 6 7 8 9]\n",
      "<class 'numpy.ndarray'>\n",
      "int32\n"
     ]
    }
   ],
   "source": [
    "import numpy as np\n",
    "array = np.arange(10)\n",
    "\n",
    "print(array)\n",
    "print(type(array))\n",
    "print(array.dtype)"
   ]
  },
  {
   "cell_type": "markdown",
   "metadata": {},
   "source": [
    "From this we see `array` is a `numpy.ndarray` with the data `[0 1 2 3 4 5 6 7 8 9]` represented as `int64` (64-bit integer).\n",
    "\n",
    "Let's see what happens when we divide the data by 2 to generate not integer data"
   ]
  },
  {
   "cell_type": "code",
   "execution_count": 2,
   "metadata": {},
   "outputs": [
    {
     "name": "stdout",
     "output_type": "stream",
     "text": [
      "[0.  0.5 1.  1.5 2.  2.5 3.  3.5 4.  4.5]\n",
      "<class 'numpy.ndarray'>\n",
      "float64\n"
     ]
    }
   ],
   "source": [
    "float_arr = array / 2\n",
    "\n",
    "print(float_arr)\n",
    "print(type(float_arr))\n",
    "print(float_arr.dtype)"
   ]
  },
  {
   "cell_type": "markdown",
   "metadata": {},
   "source": [
    "The array returned has the values `[0. 0.5 1. 2. 2.5 3. 3.5 4. 4.5]`, which is what you would expect for dividing by 2. However, since this data can't be represent by integers, the array is now represented as `float64` (64-bit float).\n",
    "\n",
    "How would we convert this back to `int64`? We'll use the `ndarray.astype` function to cast it from it's current type to the type of `int64` `(np.int64)`."
   ]
  },
  {
   "cell_type": "code",
   "execution_count": 4,
   "metadata": {},
   "outputs": [
    {
     "name": "stdout",
     "output_type": "stream",
     "text": [
      "[0 0 1 1 2 2 3 3 4 4]\n",
      "<class 'numpy.ndarray'>\n",
      "int64\n"
     ]
    }
   ],
   "source": [
    "int_arr = float_arr.astype(np.int64)\n",
    "\n",
    "print(int_arr)\n",
    "print(type(int_arr))\n",
    "print(int_arr.dtype)"
   ]
  },
  {
   "cell_type": "markdown",
   "metadata": {},
   "source": [
    "This casts teh dat to `int64`, but also changes the data. Since fractions can't be represented as integers, the decimal place is dropped."
   ]
  },
  {
   "cell_type": "markdown",
   "metadata": {},
   "source": [
    "### Signals to Positions\n",
    "Now that you've seen how the [data type object](https://docs.scipy.org/doc/numpy-1.13.0/reference/arrays.dtypes.html) is used in Numpy, let's see how to use it to generate positions from signals. Let's use `prices` array to represent the prices in dollars over time for a single stock."
   ]
  },
  {
   "cell_type": "code",
   "execution_count": 5,
   "metadata": {},
   "outputs": [
    {
     "data": {
      "text/plain": [
       "array([ 1,  3, -2,  9,  5,  7,  2])"
      ]
     },
     "execution_count": 5,
     "metadata": {},
     "output_type": "execute_result"
    }
   ],
   "source": [
    "prices = np.array([1,3,-2,9,5,7,2])\n",
    "prices"
   ]
  },
  {
   "cell_type": "markdown",
   "metadata": {},
   "source": [
    "For the positions lset's say we want ot buy one share of stock when the price is above 2 dollars and then buy 3 more shares when it's above 4 dollars. We'll first need to generate the signal for these two positions."
   ]
  },
  {
   "cell_type": "code",
   "execution_count": 6,
   "metadata": {},
   "outputs": [
    {
     "name": "stdout",
     "output_type": "stream",
     "text": [
      "[False  True False  True  True  True False]\n",
      "[False False False  True  True  True False]\n"
     ]
    }
   ],
   "source": [
    "signal_one = prices>2\n",
    "signal_three = prices>4\n",
    "\n",
    "print(signal_one)\n",
    "print(signal_three)"
   ]
  },
  {
   "cell_type": "markdown",
   "metadata": {},
   "source": [
    "Now we multiply each array by the respective amount to invest."
   ]
  },
  {
   "cell_type": "code",
   "execution_count": 7,
   "metadata": {},
   "outputs": [
    {
     "name": "stdout",
     "output_type": "stream",
     "text": [
      "[0 1 0 1 1 1 0]\n",
      "[0 0 0 3 3 3 0]\n"
     ]
    }
   ],
   "source": [
    "pos_one = 1 * signal_one\n",
    "pos_three = 3 * signal_three\n",
    "\n",
    "print(pos_one)\n",
    "print(pos_three)"
   ]
  },
  {
   "cell_type": "markdown",
   "metadata": {},
   "source": [
    "if we add them together, we have the final position of the stock over time."
   ]
  },
  {
   "cell_type": "code",
   "execution_count": 9,
   "metadata": {},
   "outputs": [
    {
     "name": "stdout",
     "output_type": "stream",
     "text": [
      "[0 1 0 4 4 4 0]\n"
     ]
    }
   ],
   "source": [
    "long_pos = pos_one + pos_three\n",
    "print(long_pos)"
   ]
  },
  {
   "cell_type": "markdown",
   "metadata": {},
   "source": [
    "### Quiz\n",
    "Using this information, implement `generate_positions` using Pandas `df.astype` function to convert `prices` to final positions using the following signals:\n",
    "\n",
    "- long 30 shares of stock when the price is above 50 dollars\n",
    "- short 10 shares of stock when it's below 20 dollars"
   ]
  },
  {
   "cell_type": "code",
   "execution_count": null,
   "metadata": {},
   "outputs": [],
   "source": [
    "def generate_positions(prices):\n",
    "    \"\"\"\n",
    "    Generate the following signals:\n",
    "    - long 30 shares of stock when the price is above 50 dollars\n",
    "    - short 10 shares of stock when the price is below 20 dollars\n",
    "    \n",
    "    Parameters\n",
    "    ----------\n",
    "    price : DataFrame\n",
    "        prices for each ticker and date\n",
    "        \n",
    "    REturns\n",
    "    -------\n",
    "    final_positions : DataFrame\n",
    "        final positions for each ticker and date\n",
    "    \"\"\"\n",
    "    \n",
    "    # Todo: Implement Function\n",
    "    signal_one = prices > 50\n",
    "    signal_two = prices < 20\n",
    "    \n",
    "    signal_one = signal_one.astype(np.int)\n",
    "    signal_two = signal_two.astype(np.int)\n",
    "    \n",
    "    pos_one = prices * 30\n",
    "    pos_two = prices * -10\n",
    "    \n",
    "    return pos_one + pos_tow"
   ]
  }
 ],
 "metadata": {
  "kernelspec": {
   "display_name": "Python 3",
   "language": "python",
   "name": "python3"
  },
  "language_info": {
   "codemirror_mode": {
    "name": "ipython",
    "version": 3
   },
   "file_extension": ".py",
   "mimetype": "text/x-python",
   "name": "python",
   "nbconvert_exporter": "python",
   "pygments_lexer": "ipython3",
   "version": "3.7.1"
  }
 },
 "nbformat": 4,
 "nbformat_minor": 2
}
